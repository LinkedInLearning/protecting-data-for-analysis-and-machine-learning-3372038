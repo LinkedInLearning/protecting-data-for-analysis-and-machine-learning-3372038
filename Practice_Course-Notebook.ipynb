{
 "cells": [
  {
   "cell_type": "code",
   "execution_count": null,
   "id": "acff5d37-76a0-4c72-a13f-b529884acc31",
   "metadata": {},
   "outputs": [],
   "source": [
    "# Install required packages\n",
    "\n",
    "!pip install pandas\n",
    "!pip install cryptography\n",
    "!pip install datetime\n",
    "!pip install faker"
   ]
  },
  {
   "cell_type": "code",
   "execution_count": null,
   "id": "a0241771-8756-418c-a896-147f06a9eff8",
   "metadata": {},
   "outputs": [],
   "source": [
    "# Import required libraries\n",
    "\n",
    "import pandas as pd\n",
    "from cryptography.fernet import Fernet\n",
    "from datetime import datetime\n",
    "import numpy as np\n",
    "from faker import Faker"
   ]
  },
  {
   "cell_type": "markdown",
   "id": "13bfa7fa-aecf-4e62-828c-c7db758bbbe2",
   "metadata": {},
   "source": [
    "# Section 1: Setup"
   ]
  },
  {
   "cell_type": "code",
   "execution_count": null,
   "id": "997d389a-b89a-46d3-a3d9-aa6f4b88798b",
   "metadata": {},
   "outputs": [],
   "source": [
    "# Load the HR Employee Excel file into a DataFrame\n",
    "\n",
    "\n",
    "# Set display options to show all columns\n",
    "\n",
    "\n",
    "# Display the DataFrame\n"
   ]
  },
  {
   "cell_type": "markdown",
   "id": "8f60c02f-2f67-4d12-930e-6c450117fd9d",
   "metadata": {},
   "source": [
    "# Section 2: Masking\n",
    "\n",
    "Data Masking is the process of modifying sensitive data to create fake but realistic versions of data.  It's great to use on phone numbers, credit card numbers, and social security numbers!"
   ]
  },
  {
   "cell_type": "code",
   "execution_count": null,
   "id": "d97cf23b-44d4-4b53-bcdf-e6bb6209b8ef",
   "metadata": {},
   "outputs": [],
   "source": [
    "# Define a function to mask the SSN \n",
    "\n",
    "\n",
    "# Replace existing SSN column with masked SSN\n",
    "\n",
    "\n",
    "# Display the first 5 rows\n"
   ]
  },
  {
   "cell_type": "markdown",
   "id": "3802fbd2",
   "metadata": {},
   "source": [
    "# Section 3: Encryption\n",
    "\n",
    "Encryptions uses a hash function which passes data through a formula that produces a string of characters as a result.  This is great to use on bank account numbers, ATM PINs, and emails!"
   ]
  },
  {
   "cell_type": "code",
   "execution_count": null,
   "id": "34abeefe-2420-4903-b4c9-c5aa0fb3a249",
   "metadata": {},
   "outputs": [],
   "source": [
    "# Generate a random secret encryption key\n",
    "\n",
    "\n",
    "# Create a Fernet cipher object with the secret key\n",
    "\n",
    "\n",
    "# Set data type for email to string\n",
    "\n",
    "\n",
    "# Define a function to encrypt the email address\n",
    "\n",
    "\n",
    "# Encrypt the existing email address in the DataFrame\n",
    "\n",
    "\n",
    "# Display the first 5 rows\n"
   ]
  },
  {
   "cell_type": "markdown",
   "id": "e77922ca-88a9-4449-aa86-255f847b5e8d",
   "metadata": {},
   "source": [
    "# Section 4: Generalization\n",
    "\n",
    "Generalization is the deliberate removal of some of the data in order to make it less identifiable.  This works well with gender, race, and dates of birth!"
   ]
  },
  {
   "cell_type": "code",
   "execution_count": null,
   "id": "8670b8d1-db34-4931-b97c-b2010186577f",
   "metadata": {},
   "outputs": [],
   "source": [
    "# Convert the 'DOB' column to datetime\n",
    "\n",
    "\n",
    "# Calculate age from date of birth\n",
    "\n",
    "\n",
    "# Calculate age and create a new column 'Age'\n",
    "\n",
    "\n",
    "# Display the first 5 rows\n"
   ]
  },
  {
   "cell_type": "code",
   "execution_count": null,
   "id": "13dc896e-369b-462f-b35c-40e02111cb05",
   "metadata": {},
   "outputs": [],
   "source": [
    "# Define age ranges and alias for generalization\n",
    "\n",
    "\n",
    "# Apply generalization to the 'Age' column\n",
    "\n",
    "\n",
    "# Add an age range column to the DataFrame\n",
    "\n",
    "\n",
    "# Drop the DOB and Age columns\n",
    "\n",
    "\n",
    "# Display the first 5 rows\n"
   ]
  },
  {
   "cell_type": "markdown",
   "id": "8dd1c6e4-d042-4b0c-8f51-af824267ba04",
   "metadata": {},
   "source": [
    "# Section 5: Perturbation\n",
    "\n",
    "Perturbation applys round-numbering methods and adds random noise.  It's great on data like employment duration, credit scores, and salary!"
   ]
  },
  {
   "cell_type": "code",
   "execution_count": null,
   "id": "f95b6a99-6791-4a30-8dd5-c3243cc77ac5",
   "metadata": {},
   "outputs": [],
   "source": [
    "# Set a seed for reproducibility\n",
    "\n",
    "\n",
    "# Define perturbation method for salary column (adding random noise)\n",
    "\n",
    "\n",
    "# Apply perturbation to the existing 'Salary' column\n",
    "\n",
    "\n",
    "# Display the first 5 rows\n"
   ]
  },
  {
   "cell_type": "markdown",
   "id": "8eed1bbb-bd3c-48ae-8fdf-ba2faef95638",
   "metadata": {},
   "source": [
    "# Section 6: Pseudonymization\n",
    "\n",
    "Pseudonymization replaces data with pseudonyms, or placeholder values.  Employee IDs, location data, and names are great to use for this technique!"
   ]
  },
  {
   "cell_type": "code",
   "execution_count": null,
   "id": "f69425fd-e9f4-4fec-96fd-dfc0742cddd1",
   "metadata": {},
   "outputs": [],
   "source": [
    "# Set a seed for reproducibility\n",
    "\n",
    "\n",
    "# Initialize Faker to generate synthetic names\n",
    "\n",
    "\n",
    "# Generate replacement first names\n",
    "\n",
    "\n",
    "# Generate replacement last names\n",
    "\n",
    "\n",
    "# Create the name mapping\n",
    "\n",
    "\n",
    "# Define a function to pseudonymize names\n",
    "\n",
    "\n",
    "# Pseudonymize names by replacing with replacement names\n",
    "\n",
    "\n",
    "# Save the pseudonymized dataset\n",
    "\n",
    "\n",
    "# Check our work, display the first 5 rows\n"
   ]
  },
  {
   "cell_type": "code",
   "execution_count": null,
   "id": "7e7ca08e-d8a6-432d-8883-a5f49da41c5e",
   "metadata": {},
   "outputs": [],
   "source": [
    "# Drop the original 'First_Name' and 'Last_Name' columns\n",
    "\n",
    "\n",
    "# Display the first 5 rows\n"
   ]
  },
  {
   "cell_type": "markdown",
   "id": "8136be91",
   "metadata": {},
   "source": [
    "# Conclusion\n",
    "\n",
    "Now all of our sensitive data is anonymized, YAY!"
   ]
  }
 ],
 "metadata": {
  "kernelspec": {
   "display_name": "Python 3 (ipykernel)",
   "language": "python",
   "name": "python3"
  },
  "language_info": {
   "codemirror_mode": {
    "name": "ipython",
    "version": 3
   },
   "file_extension": ".py",
   "mimetype": "text/x-python",
   "name": "python",
   "nbconvert_exporter": "python",
   "pygments_lexer": "ipython3",
   "version": "3.10.9"
  }
 },
 "nbformat": 4,
 "nbformat_minor": 5
}
