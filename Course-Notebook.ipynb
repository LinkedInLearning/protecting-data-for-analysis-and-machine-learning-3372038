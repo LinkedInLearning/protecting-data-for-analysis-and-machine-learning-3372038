{
 "cells": [
  {
   "cell_type": "code",
   "execution_count": null,
   "id": "acff5d37-76a0-4c72-a13f-b529884acc31",
   "metadata": {},
   "outputs": [],
   "source": [
    "# Install required packages\n",
    "\n",
    "!pip install pandas\n",
    "!pip install cryptography\n",
    "!pip install datetime\n",
    "!pip install python-dateutil\n",
    "!pip install faker"
   ]
  },
  {
   "cell_type": "code",
   "execution_count": null,
   "id": "a0241771-8756-418c-a896-147f06a9eff8",
   "metadata": {},
   "outputs": [],
   "source": [
    "# Import required libraries\n",
    "\n",
    "import pandas as pd\n",
    "from cryptography.fernet import Fernet\n",
    "from datetime import datetime\n",
    "from dateutil.relativedelta import relativedelta\n",
    "import numpy as np\n",
    "from faker import Faker"
   ]
  },
  {
   "cell_type": "markdown",
   "id": "13bfa7fa-aecf-4e62-828c-c7db758bbbe2",
   "metadata": {},
   "source": [
    "# Section 1: Setup"
   ]
  },
  {
   "cell_type": "code",
   "execution_count": null,
   "id": "997d389a-b89a-46d3-a3d9-aa6f4b88798b",
   "metadata": {},
   "outputs": [],
   "source": [
    "# Load the HR Employee Excel file into a DataFrame\n",
    "employees = pd.read_csv(\"HR_employee_data.csv\", parse_dates=['DOB'])\n",
    "\n",
    "# Set display options to show all columns\n",
    "pd.set_option('display.max_columns', None)\n",
    "\n",
    "# Display the DataFrame\n",
    "employees.head()"
   ]
  },
  {
   "cell_type": "markdown",
   "id": "8f60c02f-2f67-4d12-930e-6c450117fd9d",
   "metadata": {},
   "source": [
    "# Section 2: Masking\n",
    "\n",
    "Data Masking is the process of modifying sensitive data to create fake but realistic versions of data.  It's great to use on social security numbers!"
   ]
  },
  {
   "cell_type": "code",
   "execution_count": null,
   "id": "d97cf23b-44d4-4b53-bcdf-e6bb6209b8ef",
   "metadata": {},
   "outputs": [],
   "source": [
    "# Define a function to mask the SSN \n",
    "def mask_ssn(ssn):\n",
    "    return '*' * (len(ssn) - 4) + ssn[-4:]\n",
    "\n",
    "# Replace existing SSN column with masked SSN\n",
    "employees['SSN'] = employees['SSN'].astype(str).apply(mask_ssn)\n",
    "\n",
    "# Display the first 5 rows\n",
    "employees.head()"
   ]
  },
  {
   "cell_type": "markdown",
   "id": "3802fbd2",
   "metadata": {},
   "source": [
    "# Section 3: Encryption\n",
    "\n",
    "Encryptions uses a hash function which passes data through a formula that produces a string of characters as a result.  This is great to use on emails!"
   ]
  },
  {
   "cell_type": "code",
   "execution_count": null,
   "id": "34abeefe-2420-4903-b4c9-c5aa0fb3a249",
   "metadata": {},
   "outputs": [],
   "source": [
    "# Generate a random secret encryption key\n",
    "key = Fernet.generate_key()\n",
    "\n",
    "# Create a Fernet cipher object with the secret key\n",
    "cipher = Fernet(key)\n",
    "\n",
    "# Set data type for email to string\n",
    "employees[['ADEmail']] = employees[['ADEmail']].astype(str)\n",
    "\n",
    "# Define a function to encrypt the email address\n",
    "def encrypt_email(email):\n",
    "    encrypted_email = cipher.encrypt(email.encode())\n",
    "    return encrypted_email\n",
    "\n",
    "# Encrypt the existing email address in the DataFrame\n",
    "employees['ADEmail'] = employees['ADEmail'].apply(encrypt_email)\n",
    "\n",
    "# Display the first 5 rows\n",
    "employees.head()"
   ]
  },
  {
   "cell_type": "markdown",
   "id": "e77922ca-88a9-4449-aa86-255f847b5e8d",
   "metadata": {},
   "source": [
    "# Section 4: Generalization\n",
    "\n",
    "Generalization is the deliberate removal of some of the data in order to make it less identifiable.  This works well with dates of birth!"
   ]
  },
  {
   "cell_type": "code",
   "execution_count": null,
   "id": "8670b8d1-db34-4931-b97c-b2010186577f",
   "metadata": {},
   "outputs": [],
   "source": [
    "# Convert the 'DOB' column to datetime\n",
    "employees['DOB'] = pd.to_datetime(employees['DOB'])\n",
    "\n",
    "# Calculate age from date of birth\n",
    "def calculate_age(dob):\n",
    "    today = datetime.today()\n",
    "    age = today.year - dob.year - ((today.month, today.day) < (dob.month, dob.day))\n",
    "    return age\n",
    "\n",
    "# Calculate age and create a new column 'Age'\n",
    "employees['Age'] = employees['DOB'].apply(calculate_age)\n",
    "\n",
    "# Display the first 5 rows\n",
    "employees.head()"
   ]
  },
  {
   "cell_type": "code",
   "execution_count": null,
   "id": "13dc896e-369b-462f-b35c-40e02111cb05",
   "metadata": {},
   "outputs": [],
   "source": [
    "# Define age ranges and alias for generalization\n",
    "age_ranges = {\n",
    "    (20, 29): '20s',\n",
    "    (30, 39): '30s',\n",
    "    (40, 49): '40s',\n",
    "    (50, 59): '50s',\n",
    "    (60, 69): '60s',\n",
    "    (70, 79): '70s',\n",
    "    (80, 89): '80s'\n",
    "}\n",
    "\n",
    "# Apply generalization to the 'Age' column\n",
    "def generalize_age(age):\n",
    "    for (lower, upper), category in age_ranges.items():\n",
    "        if lower <= age <= upper:\n",
    "            return category\n",
    "\n",
    "# Add an age range column to the DataFrame\n",
    "employees['AgeRange'] = employees['Age'].apply(generalize_age)\n",
    "\n",
    "# Drop the DOB and Age columns\n",
    "employees.drop(['DOB', 'Age'], axis=1, inplace=True)\n",
    "\n",
    "# Display the first 5 rows\n",
    "employees.head()"
   ]
  },
  {
   "cell_type": "markdown",
   "id": "8dd1c6e4-d042-4b0c-8f51-af824267ba04",
   "metadata": {},
   "source": [
    "# Section 5: Perturbation\n",
    "\n",
    "Perturbation applys round-numbering methods and adds random noise.  It's great on data like salary!"
   ]
  },
  {
   "cell_type": "code",
   "execution_count": null,
   "id": "f95b6a99-6791-4a30-8dd5-c3243cc77ac5",
   "metadata": {},
   "outputs": [],
   "source": [
    "# Set a seed for reproducibility\n",
    "np.random.seed(42)  # You can use any integer value as the seed, but we will use 42 since it's the meaning of life\n",
    "\n",
    "# Define perturbation method for salary column (adding random noise)\n",
    "def perturb_salary(salary):\n",
    "    noise = np.random.normal(loc=0, scale=100000)  # Add Gaussian noise with mean 0 and standard deviation 1000\n",
    "    return round(salary + noise)  # Add noise to the original value and round\n",
    "\n",
    "# Apply perturbation to the existing 'Salary' column\n",
    "employees['Salary'] = employees['Salary'].apply(perturb_salary)\n",
    "\n",
    "# Display the first 5 rows\n",
    "employees.head()"
   ]
  },
  {
   "cell_type": "markdown",
   "id": "8eed1bbb-bd3c-48ae-8fdf-ba2faef95638",
   "metadata": {},
   "source": [
    "# Section 6: Pseudonymization\n",
    "\n",
    "Pseudonymization replaces data with pseudonyms, or placeholder values.  Names are great to use for this technique!"
   ]
  },
  {
   "cell_type": "code",
   "execution_count": null,
   "id": "f69425fd-e9f4-4fec-96fd-dfc0742cddd1",
   "metadata": {},
   "outputs": [],
   "source": [
    "# Set a seed for reproducibility\n",
    "Faker.seed(42)  # You can use any integer value as the seed, but we will use 42 since it's the meaning of life\n",
    "\n",
    "# Initialize Faker to generate synthetic names\n",
    "faker = Faker()\n",
    "\n",
    "# Generate replacement first names\n",
    "replacement_first_names = [faker.first_name() for _ in range(len(employees))]\n",
    "\n",
    "# Generate replacement last names\n",
    "replacement_last_names = [faker.last_name() for _ in range(len(employees))]\n",
    "\n",
    "# Create the name mapping\n",
    "name_mapping = dict(zip(zip(employees['FirstName'], employees['LastName']), zip(replacement_first_names, replacement_last_names)))\n",
    "\n",
    "# Define a function to pseudonymize names\n",
    "def pseudonymize_names(row):\n",
    "    return name_mapping[(row['FirstName'], row['LastName'])]\n",
    "\n",
    "# Pseudonymize names by replacing with replacement names\n",
    "employees[['Pseudonym_First_Name', 'Pseudonym_Last_Name']] = employees.apply(pseudonymize_names, axis=1, result_type='expand')\n",
    "\n",
    "# Save the pseudonymized dataset\n",
    "employees.to_csv('pseudonymized_employee_data.csv', index=False)\n",
    "\n",
    "# Drop the original 'First_Name' and 'Last_Name' columns\n",
    "employees.drop(['FirstName', 'LastName'], axis=1, inplace=True)\n",
    "\n",
    "# Display the first 5 rows\n",
    "employees.head()"
   ]
  },
  {
   "cell_type": "markdown",
   "id": "8136be91",
   "metadata": {},
   "source": [
    "# Conclusion\n",
    "\n",
    "Now all of our sensitive data is anonymized, YAY!"
   ]
  }
 ],
 "metadata": {
  "kernelspec": {
   "display_name": "Python 3 (ipykernel)",
   "language": "python",
   "name": "python3"
  },
  "language_info": {
   "codemirror_mode": {
    "name": "ipython",
    "version": 3
   },
   "file_extension": ".py",
   "mimetype": "text/x-python",
   "name": "python",
   "nbconvert_exporter": "python",
   "pygments_lexer": "ipython3",
   "version": "3.10.9"
  }
 },
 "nbformat": 4,
 "nbformat_minor": 5
}
